{
 "cells": [
  {
   "cell_type": "markdown",
   "metadata": {},
   "source": [
    "**Задание 1**. Даны 2 строки: *long_phrase* и *short_phrase*. \n",
    "Напишите код, который проверяет действительно ли длинная фраза *long_phrase* длиннее короткой *short_phrase*. И выводит *True* или *False* в зависимости от результата сравнения."
   ]
  },
  {
   "cell_type": "code",
   "execution_count": 1,
   "metadata": {},
   "outputs": [],
   "source": [
    "long_phrase = 'Насколько проще было бы писать программы, если бы не заказчики'\n",
    "short_phrase = '640Кб должно хватить для любых задач. Билл Гейтс (по легенде)'"
   ]
  },
  {
   "cell_type": "code",
   "execution_count": 5,
   "metadata": {},
   "outputs": [
    {
     "name": "stdout",
     "output_type": "stream",
     "text": [
      "True\n"
     ]
    }
   ],
   "source": [
    "if len(long_phrase) > len(short_phrase):\n",
    "    print (True)\n",
    "else:\n",
    "    print (False)\n",
    "\n"
   ]
  },
  {
   "cell_type": "markdown",
   "metadata": {},
   "source": [
    "**Задание 2**. Дано значение объема файла в байтах (*в мегабайте 2^20 байт*). Напишите перевод этого значения в мегабайты в формате: \"*Объем файла равен 213.68Mb*\"."
   ]
  },
  {
   "cell_type": "code",
   "execution_count": 6,
   "metadata": {},
   "outputs": [
    {
     "data": {
      "text/plain": [
       "'Обьем файла равен 213.68Mb'"
      ]
     },
     "execution_count": 6,
     "metadata": {},
     "output_type": "execute_result"
    }
   ],
   "source": [
    "def b_to_mb(b):\n",
    "    mb = b * 0.000001\n",
    "    return ('Обьем файла равен {:.2f}Mb'.format(mb))\n",
    "\n",
    "b_to_mb(213680000)"
   ]
  },
  {
   "cell_type": "markdown",
   "metadata": {},
   "source": [
    "**Задание 3**. Разработать приложение для определения знака зодиака по дате рождения. Пример:\n",
    "\n",
    "Введите месяц: март\n",
    "\n",
    "Введите число: 6\n",
    "\n",
    "Вывод:\n",
    "Рыбы"
   ]
  },
  {
   "cell_type": "code",
   "execution_count": 7,
   "metadata": {},
   "outputs": [],
   "source": [
    "def zodiac(month, day):\n",
    "    if (month.lower() == 'февраль' and day >= 21) or (month.lower() == 'март' and day <= 20):\n",
    "        print('Рыбы')\n",
    "    elif (month.lower() == 'март' and day >= 21) or (month.lower() == 'апрель' and day <= 20):\n",
    "        print('Овен')\n",
    "    elif (month.lower() == 'апрель' and day >= 21) or (month.lower() == 'май' and day <= 20):\n",
    "        print('Телец')\n",
    "    elif (month.lower() == 'май' and day >= 21) or (month.lower() == 'июнь' and day <= 21):\n",
    "        print('Близнецы')\n",
    "    elif (month.lower() == 'июнь' and day >= 22) or (month.lower() == 'июль' and day <= 22):\n",
    "        print('Рак')\n",
    "    elif (month.lower() == 'июль' and day >= 23) or (month.lower() == 'август' and day <= 23):\n",
    "        print('Лев')\n",
    "    elif (month.lower() == 'август' and day >= 24) or (month.lower() == 'сентябрь' and day <= 23):\n",
    "        print('Дева')\n",
    "    elif (month.lower() == 'сентябрь' and day >= 24) or (month.lower() == 'октябрь' and day <= 23):\n",
    "        print('Весы')\n",
    "    elif (month.lower() == 'октябрь' and day >= 24) or (month.lower() == 'ноябрь' and day <= 22):\n",
    "        print('Скорпион')\n",
    "    elif (month.lower() == 'ноябрь' and day >= 23) or (month.lower() == 'декабрь' and day <= 21):\n",
    "        print('Стрелец')\n",
    "    elif (month.lower() == 'декабрь' and day >= 22) or (month.lower() == 'январь' and day <= 20):\n",
    "        print('Козерог')\n",
    "    elif (month.lower() == 'январь' and day >= 21) or (month.lower() == 'февраль' and day <= 20):\n",
    "        print('Водолей')\n",
    "    else:\n",
    "        print(\"Попробуйте еще раз!\")"
   ]
  },
  {
   "cell_type": "code",
   "execution_count": 8,
   "metadata": {},
   "outputs": [
    {
     "name": "stdout",
     "output_type": "stream",
     "text": [
      "Рыбы\n"
     ]
    }
   ],
   "source": [
    "zodiac('Март', 6)"
   ]
  },
  {
   "cell_type": "markdown",
   "metadata": {},
   "source": [
    "**Задание 4**. Нужно разработать приложение для финансового планирования.\n",
    "Приложение учитывает сколько уходит на ипотеку, \"на жизнь\" и сколько нужно отложить на пенсию.\n",
    "Пользователь вводит:\n",
    "- заработанную плату в месяц.\n",
    "- сколько процентов от ЗП уходит на ипотеку.\n",
    "- сколько процентов от ЗП уходит \"на жизнь\".\n",
    "- сколько раз приходит премия в год.\n",
    "\n",
    "Остальная часть заработанной платы откладывается на пенсию.\n",
    "\n",
    "Также пользователю приходит премия в размере зарплаты, от которой половина уходит на отпуск, а вторая половина откладывается.\n",
    "\n",
    "Программа должна учитывать сколько премий было в год.\n",
    "\n",
    "Нужно вывести сколько денег тратит пользователь на ипотеку и сколько он накопит за год.\n",
    "\n",
    "Пример:\n",
    "\n",
    "Введите заработанную плату в месяц: 100000\n",
    "\n",
    "Введите сколько процентов уходит на ипотеку: 30\n",
    "\n",
    "Введите сколько процентов уходит на жизнь: 50\n",
    "\n",
    "Введите количество премий за год: 2\n",
    "\n",
    "Вывод:\n",
    "На ипотеку было потрачено: 360000 рублей\n",
    "Было накоплено: 340000 рублей"
   ]
  },
  {
   "cell_type": "code",
   "execution_count": 9,
   "metadata": {},
   "outputs": [],
   "source": [
    "def savings_and_mortgage(wage, mortgage, living, bonus):\n",
    "    total_wage = wage * 12\n",
    "    total_mortgage = total_wage * (mortgage / 100)\n",
    "    total_living = total_wage * (living / 100)\n",
    "    total_saving = total_wage - total_mortgage - total_living\n",
    "    total_saving += 0.5 * (wage * bonus)\n",
    "    print('На ипотеку было потрачено: {:.0f} рублей.'.format(total_mortgage))\n",
    "    print('Было накоплено: {:.0f} рублей.'.format(total_saving))\n",
    "    \n",
    "    "
   ]
  },
  {
   "cell_type": "code",
   "execution_count": 14,
   "metadata": {},
   "outputs": [
    {
     "name": "stdout",
     "output_type": "stream",
     "text": [
      "На ипотеку было потрачено: 360000 рублей.\n",
      "Было накоплено: 340000 рублей.\n"
     ]
    }
   ],
   "source": [
    "savings_and_mortgage(100000, 30, 50, 2)"
   ]
  },
  {
   "cell_type": "code",
   "execution_count": 15,
   "metadata": {},
   "outputs": [
    {
     "name": "stdout",
     "output_type": "stream",
     "text": [
      "Введите заработанную плату в месяц: 100000\n",
      "Введите сколько процентов уходит на ипотеку: 30\n",
      "Введите сколько процентов уходит на жизнь: 50\n",
      "Введите количество премий за год: 2\n",
      "На ипотеку было потрачено: 360000 рублей.\n",
      "Было накоплено: 340000 рублей.\n"
     ]
    }
   ],
   "source": [
    "#но можно и с input:\n",
    "\n",
    "wage = int(input('Введите заработанную плату в месяц: '))\n",
    "mortgage = int(input('Введите сколько процентов уходит на ипотеку: '))\n",
    "living = int(input('Введите сколько процентов уходит на жизнь: '))\n",
    "bonus = int(input('Введите количество премий за год: '))\n",
    "\n",
    "savings_and_mortgage(wage, mortgage, living, bonus)"
   ]
  }
 ],
 "metadata": {
  "kernelspec": {
   "display_name": "Python 3",
   "language": "python",
   "name": "python3"
  },
  "language_info": {
   "codemirror_mode": {
    "name": "ipython",
    "version": 3
   },
   "file_extension": ".py",
   "mimetype": "text/x-python",
   "name": "python",
   "nbconvert_exporter": "python",
   "pygments_lexer": "ipython3",
   "version": "3.7.4"
  }
 },
 "nbformat": 4,
 "nbformat_minor": 2
}
