{
 "cells": [
  {
   "cell_type": "markdown",
   "metadata": {},
   "source": [
    "# Домашняя работа №1"
   ]
  },
  {
   "cell_type": "code",
   "execution_count": 58,
   "metadata": {},
   "outputs": [],
   "source": [
    "import numpy as np\n",
    "import matplotlib.pyplot as plt\n",
    "from numpy import linalg"
   ]
  },
  {
   "cell_type": "markdown",
   "metadata": {},
   "source": [
    "## Задание 1"
   ]
  },
  {
   "cell_type": "markdown",
   "metadata": {},
   "source": [
    "Изобразите с помощью matplotlib. Изобразите точку x + 2y + 3z. Найдите угол между векторами x, y и x, z. "
   ]
  },
  {
   "cell_type": "code",
   "execution_count": 54,
   "metadata": {},
   "outputs": [
    {
     "data": {
      "image/png": "[encoded data removed]",
      "text/plain": [
       "<Figure size 432x288 with 1 Axes>"
      ]
     },
     "metadata": {
      "needs_background": "light"
     },
     "output_type": "display_data"
    }
   ],
   "source": [
    "x = np.array([1,1])\n",
    "y = np.array([2, 0])\n",
    "z = np.array([0,2])\n",
    "\n",
    "\n",
    "plt.scatter((x[0] + 2*y[0] + 3*z[0]), (x[1] + 2*y[1] + 3*z[1]), color = 'red')\n",
    "\n",
    "plt.quiver(x[0], x[1], scale = 5)\n",
    "plt.quiver(y[0], y[1], scale = 5)\n",
    "plt.quiver(z[0], z[1], scale = 5)\n",
    "\n",
    "\n",
    "plt.show() "
   ]
  },
  {
   "cell_type": "code",
   "execution_count": 53,
   "metadata": {},
   "outputs": [
    {
     "name": "stdout",
     "output_type": "stream",
     "text": [
      "cosine для x, y: 0.7071067811865475\n",
      "cosine для x, z: 0.7071067811865475\n"
     ]
    }
   ],
   "source": [
    "def cosine(a, b):\n",
    "    \n",
    "    aLen = np.linalg.norm(a)\n",
    "    bLen = np.linalg.norm(b)\n",
    "    \n",
    "    return np.dot(a, b) / (aLen * bLen)\n",
    "\n",
    "print(f'cosine для x, y: {cosine(x, y)}')\n",
    "print(f'cosine для x, z: {cosine(x, z)}')\n",
    "\n"
   ]
  },
  {
   "cell_type": "markdown",
   "metadata": {},
   "source": [
    "## Задание 2"
   ]
  },
  {
   "cell_type": "markdown",
   "metadata": {},
   "source": [
    "Найдите собственные значения и собственные вектора матриц (необходимо решение на numpy и решение по алгоритму на бумажке). Для матрицы 3x3 можно посмотреть на корни характеристического многочлена, посчитанные в numpy."
   ]
  },
  {
   "cell_type": "code",
   "execution_count": 63,
   "metadata": {},
   "outputs": [
    {
     "name": "stdout",
     "output_type": "stream",
     "text": [
      "Собственное значение m1 1.0\n",
      "соответствующий ему собственный вектор [-0.89442719  0.4472136 ]\n",
      "Собственное значение m1 4.0\n",
      "соответствующий ему собственный вектор [-0.70710678 -0.70710678]\n"
     ]
    }
   ],
   "source": [
    "m1 = np.array([[2, 2],\n",
    "               [1, 3]])\n",
    "\n",
    "m2 = np.array([[4, 1, -1],\n",
    "               [1, 4, -1],\n",
    "               [-1, -1, 4]])\n",
    "\n",
    "\n",
    "wa, va = np.linalg.eig(m1)\n",
    "\n",
    "for i in range(len(wa)):\n",
    "    print(f\"Собственное значение m1 {str(wa[i])}\") \n",
    "    print(f\"соответствующий ему собственный вектор {str(va[:,i])}\")"
   ]
  },
  {
   "cell_type": "code",
   "execution_count": 64,
   "metadata": {},
   "outputs": [
    {
     "name": "stdout",
     "output_type": "stream",
     "text": [
      "Собственное значение m2 2.999999999999999\n",
      "соответствующий ему собственный вектор [-0.81649658  0.40824829 -0.40824829]\n",
      "Собственное значение m2 5.999999999999997\n",
      "соответствующий ему собственный вектор [ 0.57735027  0.57735027 -0.57735027]\n",
      "Собственное значение m2 2.9999999999999996\n",
      "соответствующий ему собственный вектор [-0.27658128  0.8035929   0.52701162]\n"
     ]
    }
   ],
   "source": [
    "wa, va = np.linalg.eig(m2)\n",
    "\n",
    "for i in range(len(wa)):\n",
    "    print(f\"Собственное значение m2 {str(wa[i])}\") \n",
    "    print(f\"соответствующий ему собственный вектор {str(va[:,i])}\")"
   ]
  },
  {
   "cell_type": "markdown",
   "metadata": {},
   "source": [
    "## Задание 3"
   ]
  },
  {
   "cell_type": "markdown",
   "metadata": {},
   "source": [
    "Найдите сингулярное разложение матрицы."
   ]
  },
  {
   "cell_type": "code",
   "execution_count": 71,
   "metadata": {},
   "outputs": [
    {
     "name": "stdout",
     "output_type": "stream",
     "text": [
      "[[-0.52573111 -0.85065081]\n",
      " [-0.85065081  0.52573111]]\n",
      "\n",
      "[4.23606798 0.23606798]\n",
      "\n",
      "[[-0.52573111 -0.85065081]\n",
      " [ 0.85065081 -0.52573111]]\n"
     ]
    }
   ],
   "source": [
    "m3 = np.array([[1, 2],\n",
    "               [2, 3]])\n",
    "\n",
    "from scipy.linalg import svd\n",
    "\n",
    "U, s, VT = svd(m3)\n",
    "print(U)\n",
    "print()\n",
    "print(s)\n",
    "print()\n",
    "print(VT)"
   ]
  },
  {
   "cell_type": "code",
   "execution_count": null,
   "metadata": {},
   "outputs": [],
   "source": []
  }
 ],
 "metadata": {
  "kernelspec": {
   "display_name": "Python 3",
   "language": "python",
   "name": "python3"
  },
  "language_info": {
   "codemirror_mode": {
    "name": "ipython",
    "version": 3
   },
   "file_extension": ".py",
   "mimetype": "text/x-python",
   "name": "python",
   "nbconvert_exporter": "python",
   "pygments_lexer": "ipython3",
   "version": "3.7.4"
  }
 },
 "nbformat": 4,
 "nbformat_minor": 2
}
