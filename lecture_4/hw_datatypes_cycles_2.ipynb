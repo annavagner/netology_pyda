{
 "cells": [
  {
   "cell_type": "markdown",
   "metadata": {},
   "source": [
    "**Задание 1**. Дан список с визитами по городам и странам. \n",
    "Напишите код, который возвращает отфильтрованный список geo_logs, содержащий только визиты из России."
   ]
  },
  {
   "cell_type": "code",
   "execution_count": 130,
   "metadata": {},
   "outputs": [
    {
     "data": {
      "text/plain": [
       "[{'visit1': ['Москва', 'Россия']},\n",
       " {'visit3': ['Владимир', 'Россия']},\n",
       " {'visit7': ['Тула', 'Россия']},\n",
       " {'visit8': ['Тула', 'Россия']},\n",
       " {'visit9': ['Курск', 'Россия']},\n",
       " {'visit10': ['Архангельск', 'Россия']}]"
      ]
     },
     "execution_count": 130,
     "metadata": {},
     "output_type": "execute_result"
    }
   ],
   "source": [
    "geo_logs = [\n",
    "    {'visit1': ['Москва', 'Россия']},\n",
    "    {'visit2': ['Дели', 'Индия']},\n",
    "    {'visit3': ['Владимир', 'Россия']},\n",
    "    {'visit4': ['Лиссабон', 'Португалия']},\n",
    "    {'visit5': ['Париж', 'Франция']},\n",
    "    {'visit6': ['Лиссабон', 'Португалия']},\n",
    "    {'visit7': ['Тула', 'Россия']},\n",
    "    {'visit8': ['Тула', 'Россия']},\n",
    "    {'visit9': ['Курск', 'Россия']},\n",
    "    {'visit10': ['Архангельск', 'Россия']}\n",
    "]\n",
    "\n",
    "def visits_to_russia(geo_logs):\n",
    "    new_list = []\n",
    "    for row in geo_logs:\n",
    "        for cities in row.values():\n",
    "            if 'Россия' in cities:\n",
    "                new_list.append(row)\n",
    "    return new_list            \n",
    "    \n",
    "visits_to_russia(geo_logs)"
   ]
  },
  {
   "cell_type": "markdown",
   "metadata": {},
   "source": [
    "**Задание 2**. Выведите на экран все уникальные гео-ID из значений словаря ids. Т. е. список вида [213, 15, 54, 119, 98, 35]"
   ]
  },
  {
   "cell_type": "code",
   "execution_count": 120,
   "metadata": {},
   "outputs": [
    {
     "data": {
      "text/plain": [
       "[213, 15, 54, 119, 98, 35]"
      ]
     },
     "execution_count": 120,
     "metadata": {},
     "output_type": "execute_result"
    }
   ],
   "source": [
    "ids = {'user1': [213, 213, 213, 15, 213], \n",
    "       'user2': [54, 54, 119, 119, 119], \n",
    "       'user3': [213, 98, 98, 35]}\n",
    "\n",
    "\n",
    "def unique_in_dict(dict):\n",
    "    unique = []\n",
    "    for row in ids.values():\n",
    "        for item in row:\n",
    "            if item not in unique:\n",
    "                unique.append(item)\n",
    "    return unique            \n",
    "        \n",
    "unique_in_dict(ids)"
   ]
  },
  {
   "cell_type": "markdown",
   "metadata": {},
   "source": [
    "**Задание 3**. Дан список поисковых запросов. Получить распределение количества слов в них. \n",
    "Т. е. поисковых запросов из одного - слова 5%, из двух - 7%, из трех - 3% и т.д."
   ]
  },
  {
   "cell_type": "code",
   "execution_count": 153,
   "metadata": {},
   "outputs": [
    {
     "name": "stdout",
     "output_type": "stream",
     "text": [
      "Запросов из 1: 0%\n",
      "Запросов из 2: 43%\n",
      "Запросов из 3: 57%\n",
      "Запросов из 4 и больше: 0%\n"
     ]
    }
   ],
   "source": [
    "queries = [\n",
    "    'смотреть сериалы онлайн',\n",
    "    'новости спорта',\n",
    "    'афиша кино',\n",
    "    'курс доллара',\n",
    "    'сериалы этим летом',\n",
    "    'курс по питону',\n",
    "    'сериалы про спорт',\n",
    "]\n",
    "\n",
    "def len_and_proportion(queries):\n",
    "    \n",
    "    total = len(queries)\n",
    "    dict = {1: 0, 2: 0, 3: 0, '4 и больше': 0}\n",
    "\n",
    "    for item in queries:\n",
    "        query = item.split()\n",
    "        if len(query) == 1:\n",
    "            dict[1] += 1\n",
    "        elif len(query) == 2:\n",
    "            dict[2] += 1\n",
    "        elif len(query) == 3:\n",
    "            dict[3] += 1\n",
    "        else:\n",
    "            dict['4 и больше'] += 1\n",
    "\n",
    "    for key, value in dict.items():\n",
    "        print('Запросов из {}: {:.0f}%'.format(key,  ((value / total) * 100)))\n",
    "\n",
    "len_and_proportion(queries)"
   ]
  },
  {
   "cell_type": "code",
   "execution_count": 154,
   "metadata": {},
   "outputs": [
    {
     "name": "stdout",
     "output_type": "stream",
     "text": [
      "Запросов из 1: 18%\n",
      "Запросов из 2: 27%\n",
      "Запросов из 3: 45%\n",
      "Запросов из 4 и больше: 9%\n"
     ]
    }
   ],
   "source": [
    "queries = [\n",
    "    'смотреть сериалы онлайн',\n",
    "    'новости спорта',\n",
    "    'афиша кино',\n",
    "    'курс доллара',\n",
    "    'сериалы этим летом',\n",
    "    'курс по питону',\n",
    "    'сериалы про спорт',\n",
    "    'смотреть сериалы онлайн без регистрации',\n",
    "    'рубль',\n",
    "    'доллар',\n",
    "    'рубли в доллары'\n",
    "]\n",
    "len_and_proportion(queries)"
   ]
  },
  {
   "cell_type": "markdown",
   "metadata": {},
   "source": [
    "**Задание 4**. Дана статистика рекламных каналов по объемам продаж. Напишите скрипт, который возвращает название канала с максимальным объемом.\n",
    "Т. е. в данном примере скрипт должен возвращать 'yandex'."
   ]
  },
  {
   "cell_type": "code",
   "execution_count": 155,
   "metadata": {},
   "outputs": [
    {
     "name": "stdout",
     "output_type": "stream",
     "text": [
      "yandex\n"
     ]
    }
   ],
   "source": [
    "stats = {'facebook': 55, 'yandex': 120, 'vk': 115, 'google': 99, 'email': 42, 'ok': 98}\n",
    "\n",
    "def max_sales(stats):\n",
    "    max = 0\n",
    "    name = ''\n",
    "\n",
    "    for key, value in stats.items():\n",
    "        if value > max:\n",
    "            max = value\n",
    "            name = key\n",
    "    print(name)\n",
    " \n",
    "max_sales(stats)"
   ]
  },
  {
   "cell_type": "markdown",
   "metadata": {},
   "source": [
    "**Задание 5**. Напишите код для преобразования произвольного списка вида ['2018-01-01', 'yandex', 'cpc', 100] (он может быть любой длины) в словарь {'2018-01-01': {'yandex': {'cpc': 100}}}"
   ]
  },
  {
   "cell_type": "code",
   "execution_count": 157,
   "metadata": {},
   "outputs": [
    {
     "data": {
      "text/plain": [
       "{'2018-01-01': {'yandex': {'cpc': 100}}}"
      ]
     },
     "execution_count": 157,
     "metadata": {},
     "output_type": "execute_result"
    }
   ],
   "source": [
    "list = ['2018-01-01', 'yandex', 'cpc', 100] \n",
    "\n",
    "def dict_in_dict(list):\n",
    "\n",
    "    dict = {list[-2]: list[-1]}\n",
    "\n",
    "    for item in list[:-2][::-1]:\n",
    "        dict = {item: dict}\n",
    "        \n",
    "    return dict\n",
    "\n",
    "dict_in_dict(list)\n",
    "\n",
    " "
   ]
  }
 ],
 "metadata": {
  "kernelspec": {
   "display_name": "Python 3",
   "language": "python",
   "name": "python3"
  },
  "language_info": {
   "codemirror_mode": {
    "name": "ipython",
    "version": 3
   },
   "file_extension": ".py",
   "mimetype": "text/x-python",
   "name": "python",
   "nbconvert_exporter": "python",
   "pygments_lexer": "ipython3",
   "version": "3.7.4"
  }
 },
 "nbformat": 4,
 "nbformat_minor": 2
}
