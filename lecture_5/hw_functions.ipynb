{
 "cells": [
  {
   "cell_type": "code",
   "execution_count": 435,
   "metadata": {},
   "outputs": [],
   "source": [
    "documents = [\n",
    "    {'type': 'passport', 'number': '2207 876234', 'name': 'Василий Гупкин'},\n",
    "    {'type': 'invoice', 'number': '11-2', 'name': 'Геннадий Покемонов'},\n",
    "    {'type': 'insurance', 'number': '10006', 'name': 'Аристарх Павлов'}\n",
    "]\n"
   ]
  },
  {
   "cell_type": "code",
   "execution_count": 436,
   "metadata": {},
   "outputs": [],
   "source": [
    "directories = {\n",
    "    '1': ['2207 876234', '11-2'],\n",
    "    '2': ['10006'],\n",
    "    '3': []\n",
    "}\n"
   ]
  },
  {
   "cell_type": "markdown",
   "metadata": {},
   "source": [
    "Необходимо реализовать пользовательские команды (внимание! это не название функций, которые должны быть выразительными, а команды, которые вводит пользователь, чтобы получить необходимый результат):\n",
    "  \n",
    "- p – people – команда, которая спросит номер документа и выведет имя человека, которому он принадлежит;  \n",
    "- s – shelf – команда, которая спросит номер документа и выведет номер полки, на которой он находится  \n",
    "*Правильно обработайте ситуации, когда пользователь будет вводить несуществующий документ*.\n",
    "- l – list – команда, которая выведет список всех документов в формате   \n",
    "**passport \"2207 876234\" \"Василий Гупкин\"**  \n",
    "- as – add shelf – команда, которая спросит номер новой полки и добавит ее в перечень. *Предусмотрите случай, когда пользователь добавляет полку, которая уже существует*.\n",
    "- d – delete – команда, которая спросит номер документа и удалит его из каталога и из перечня полок. *Предусмотрите сценарий, когда пользователь вводит несуществующий документ*;  \n",
    "- m – move – команда, которая спросит номер документа и целевую полку и переместит его с текущей полки на целевую. *Корректно обработайте кейсы, когда пользователь пытается переместить несуществующий документ или переместить документ на несуществующую полку*;  \n",
    "- a – add – команда, которая добавит новый документ в каталог и в перечень полок, спросив его номер, тип, имя владельца и номер полки, на котором он будет храниться. *Корректно обработайте ситуацию, когда пользователь будет пытаться добавить документ на несуществующую полку*."
   ]
  },
  {
   "cell_type": "code",
   "execution_count": 427,
   "metadata": {},
   "outputs": [],
   "source": [
    "def people(number, documents):\n",
    "    for document in documents:\n",
    "        if number in document.values():\n",
    "            return row['name']\n",
    "    print('Данных нет') \n",
    "        "
   ]
  },
  {
   "cell_type": "code",
   "execution_count": 429,
   "metadata": {},
   "outputs": [],
   "source": [
    "def get_shelf(number, directories):\n",
    "    for key, shelf in directories.items():\n",
    "        if number in shelf:\n",
    "            return key\n",
    "    print('Полки с таким документом не существует в архиве') \n",
    " "
   ]
  },
  {
   "cell_type": "code",
   "execution_count": 430,
   "metadata": {},
   "outputs": [],
   "source": [
    "def list_everything(documents):\n",
    "    for row in documents:\n",
    "        print ('{} \"{}\" \"{}\"'.format(row['type'], row['number'], row['name']))"
   ]
  },
  {
   "cell_type": "code",
   "execution_count": 431,
   "metadata": {},
   "outputs": [],
   "source": [
    "def add_shelf(number, directories):\n",
    "    if number in directories.keys():\n",
    "        print('Уже есть такая полка!')\n",
    "        return \n",
    "    else:\n",
    "        directories[number] = []\n"
   ]
  },
  {
   "cell_type": "code",
   "execution_count": 432,
   "metadata": {},
   "outputs": [],
   "source": [
    "def delete_document(number, documents, directories):\n",
    "        numbers = []\n",
    "        for row in documents:\n",
    "            numbers.append(row['number'])\n",
    "        if number not in numbers:\n",
    "            print('Такого документа не существует')\n",
    "            return \n",
    "        else:    \n",
    "            for row in range(len(documents)):\n",
    "                if documents[row]['number'] == number:\n",
    "                    to_del = row\n",
    "                else:\n",
    "                    pass\n",
    "            for items in directories.values():\n",
    "                if number in items:\n",
    "                    items.remove(number)\n",
    "            del documents[to_del]  \n"
   ]
  },
  {
   "cell_type": "code",
   "execution_count": 433,
   "metadata": {},
   "outputs": [],
   "source": [
    "def move(number, shelf, directories):\n",
    "    numbers = []\n",
    "        \n",
    "    if shelf not in directories.keys():\n",
    "        print('Такой полки нет')\n",
    "        return \n",
    "    else:\n",
    "        for row in directories.values():\n",
    "            for num in row:\n",
    "                numbers.append(num)\n",
    "            if number in numbers:\n",
    "                if number in row:\n",
    "                    row.remove(number)\n",
    "            else:\n",
    "                print('Такого документа нет!')\n",
    "                return \n",
    "           \n",
    "        directories[shelf].append(number)\n",
    "               "
   ]
  },
  {
   "cell_type": "code",
   "execution_count": 434,
   "metadata": {},
   "outputs": [],
   "source": [
    "def add(type, number, name, shelf, documents, directories): \n",
    "    if shelf not in directories:\n",
    "        answer = input('Такой полки нет, но мы можем ее добавить. Есть да, то нажмите y: \\t').lower()\n",
    "        if answer == 'y':\n",
    "            add_shelf(shelf, directories)\n",
    "            directories[shelf].append(number)\n",
    "            documents.append({'type': type, 'number': number, 'name': name})\n",
    "        else:\n",
    "            print('Попробуйте еще раз')\n",
    "            return \n",
    "    else:\n",
    "        documents.append({'type': type, 'number': number, 'name': name})\n",
    "        directories[shelf].append(number)\n",
    "                "
   ]
  },
  {
   "cell_type": "code",
   "execution_count": 438,
   "metadata": {},
   "outputs": [
    {
     "name": "stdout",
     "output_type": "stream",
     "text": [
      "Выберите команду: p, s, l, as, d, m, a или запросите справку по командам через q: \tq\n",
      "\n",
      "            p - имя по номеру документа\n",
      "            s - полка по номеру документа\n",
      "            l - список всех документов (документ, номер, имя)\n",
      "            as - по номеру добавит полку в архив\n",
      "            d - удалить документ по номеру\n",
      "            m - по номеру документа и полки переместит на другую\n",
      "            a - по номеру, типу, имени и номеру полки добавляет документ\n",
      "            \n",
      "Выберите команду: p, s, l, as, d, m, a или запросите справку по командам через q: \tm\n",
      "Введите номер документа: \t11-2\n",
      "Введите номер полки, на которую надо перенести документ: \t3\n"
     ]
    }
   ],
   "source": [
    "def clerk(documents, directories):\n",
    "    while True:\n",
    "        command = input('Выберите команду: p, s, l, as, d, m, a или запросите справку по командам через q: \\t').lower()\n",
    "        if command == 'q':\n",
    "            print (\"\"\"\n",
    "            p - имя по номеру документа\n",
    "            s - полка по номеру документа\n",
    "            l - список всех документов (документ, номер, имя)\n",
    "            as - по номеру добавит полку в архив\n",
    "            d - удалить документ по номеру\n",
    "            m - по номеру документа и полки переместит на другую\n",
    "            a - по номеру, типу, имени и номеру полки добавляет документ\n",
    "            \"\"\")\n",
    "        elif command == 'p':\n",
    "            number = input('Введите номер документа: \\t')\n",
    "            return people(number, documents)\n",
    "        elif command == 's':\n",
    "            number = input('Введите номер документа: \\t')\n",
    "            return get_shelf(number, directories)\n",
    "        elif command == 'l':\n",
    "            return list_everything(documents)\n",
    "        elif command == 'as':\n",
    "            number = input('Введите номер полки: \\t')\n",
    "            return add_shelf(number, directories)\n",
    "        elif command == 'd':\n",
    "            number = input('Введите номер документа: \\t')\n",
    "            return delete_document(number, documents, directories)\n",
    "        elif command == 'm':\n",
    "            number = input('Введите номер документа: \\t')\n",
    "            shelf = input('Введите номер полки, на которую надо перенести документ: \\t')\n",
    "            return move(number, shelf, directories)\n",
    "        elif command == 'a':\n",
    "            type = input('Введите тип документа: \\t')\n",
    "            number = input('Введите номер документа: \\t')\n",
    "            name = input('Введите имя владельца: \\t')\n",
    "            shelf = input('Введите номер полки, на которую надо перенести документ: \\t')\n",
    "            return add(type, number, name, shelf, documents, directories)\n",
    "        else:\n",
    "            break\n",
    "        \n",
    "\n",
    "        \n",
    "clerk(documents, directories)"
   ]
  },
  {
   "cell_type": "code",
   "execution_count": 439,
   "metadata": {},
   "outputs": [
    {
     "data": {
      "text/plain": [
       "[{'type': 'passport', 'number': '2207 876234', 'name': 'Василий Гупкин'},\n",
       " {'type': 'invoice', 'number': '11-2', 'name': 'Геннадий Покемонов'},\n",
       " {'type': 'insurance', 'number': '10006', 'name': 'Аристарх Павлов'},\n",
       " {'type': \"driver's license\", 'number': 'MO25475JK', 'name': 'Марк Дарси'}]"
      ]
     },
     "execution_count": 439,
     "metadata": {},
     "output_type": "execute_result"
    }
   ],
   "source": [
    "documents"
   ]
  },
  {
   "cell_type": "code",
   "execution_count": 440,
   "metadata": {},
   "outputs": [
    {
     "data": {
      "text/plain": [
       "{'1': ['2207 876234'], '2': ['10006'], '3': ['11-2'], '4': ['MO25475JK']}"
      ]
     },
     "execution_count": 440,
     "metadata": {},
     "output_type": "execute_result"
    }
   ],
   "source": [
    "directories"
   ]
  }
 ],
 "metadata": {
  "kernelspec": {
   "display_name": "Python 3",
   "language": "python",
   "name": "python3"
  },
  "language_info": {
   "codemirror_mode": {
    "name": "ipython",
    "version": 3
   },
   "file_extension": ".py",
   "mimetype": "text/x-python",
   "name": "python",
   "nbconvert_exporter": "python",
   "pygments_lexer": "ipython3",
   "version": "3.7.4"
  }
 },
 "nbformat": 4,
 "nbformat_minor": 2
}
