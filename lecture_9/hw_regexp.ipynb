{
 "cells": [
  {
   "cell_type": "code",
   "execution_count": 1,
   "metadata": {},
   "outputs": [],
   "source": [
    "import re"
   ]
  },
  {
   "cell_type": "code",
   "execution_count": 112,
   "metadata": {},
   "outputs": [],
   "source": [
    "def vehicle_id_number(number):\n",
    "    if re.findall(r'\\w\\d{3}\\w{2}\\d{2,3}$', number):\n",
    "        return (re.findall(r'\\d{3}', number), re.findall(r'\\d{2}$', number))\n",
    "    else:\n",
    "        print('Неправильный номер')\n",
    "        return"
   ]
  },
  {
   "cell_type": "code",
   "execution_count": 113,
   "metadata": {},
   "outputs": [
    {
     "data": {
      "text/plain": [
       "(['234'], ['72'])"
      ]
     },
     "execution_count": 113,
     "metadata": {},
     "output_type": "execute_result"
    }
   ],
   "source": [
    "vehicle_id_number('У234РА72')\n"
   ]
  },
  {
   "cell_type": "code",
   "execution_count": 114,
   "metadata": {},
   "outputs": [
    {
     "name": "stdout",
     "output_type": "stream",
     "text": [
      "Неправильный номер\n"
     ]
    }
   ],
   "source": [
    "vehicle_id_number('У234РА72222')\n"
   ]
  },
  {
   "cell_type": "code",
   "execution_count": 109,
   "metadata": {},
   "outputs": [],
   "source": [
    "def email_checker(email):\n",
    "    if re.findall(r'^[A-Za-z0-9\\._-]{4,}@[A-Za-z0-9\\._-]{2,}\\.[a-zA-Z]{2,4}$', email):\n",
    "        print('correct email')\n",
    "        return\n",
    "    else:\n",
    "        print('wrong email')\n",
    "        return"
   ]
  },
  {
   "cell_type": "code",
   "execution_count": 115,
   "metadata": {},
   "outputs": [
    {
     "name": "stdout",
     "output_type": "stream",
     "text": [
      "correct email\n"
     ]
    }
   ],
   "source": [
    "email_checker('ivan_petrov@gmail.com')"
   ]
  },
  {
   "cell_type": "code",
   "execution_count": 117,
   "metadata": {},
   "outputs": [
    {
     "name": "stdout",
     "output_type": "stream",
     "text": [
      "wrong email\n"
     ]
    }
   ],
   "source": [
    "email_checker('ivan_pe!rov@gmail.com')"
   ]
  },
  {
   "cell_type": "code",
   "execution_count": 118,
   "metadata": {},
   "outputs": [
    {
     "data": {
      "text/plain": [
       "'маша любит кашу'"
      ]
     },
     "execution_count": 118,
     "metadata": {},
     "output_type": "execute_result"
    }
   ],
   "source": [
    "def repeated_words(string):\n",
    "    string = re.sub(r'\\b(\\w+)(\\s\\1\\b)+', r'\\1', string)\n",
    "    return string\n",
    "    \n",
    "repeated_words('маша маша любит кашу кашу')\n"
   ]
  },
  {
   "cell_type": "code",
   "execution_count": 103,
   "metadata": {},
   "outputs": [],
   "source": [
    "def phone_numbers(number):\n",
    "    if re.findall(r'\\+?7?8?\\s?\\(?(\\d{3})\\)?\\s?\\+?\\-?(\\d{3})\\)?\\s?\\+?\\-?(\\d{2})\\s?\\+?\\-?(\\d{2})$', number):\n",
    "        number = re.sub(r'\\+?7?8?\\s?\\(?(\\d{3})\\)?\\s?\\+?\\-?(\\d{3})\\)?\\s?\\+?\\-?(\\d{2})\\s?\\+?\\-?(\\d{2}$)', r'+7(\\1)-\\2-\\3-\\4', number)\n",
    "        return number\n",
    "    else:\n",
    "        print('Неправильный номер')"
   ]
  },
  {
   "cell_type": "code",
   "execution_count": 127,
   "metadata": {},
   "outputs": [
    {
     "name": "stdout",
     "output_type": "stream",
     "text": [
      "+7(955)-555-55-55\n",
      "+7(955)-555-55-55\n",
      "+7(955)-555-55-55\n",
      "+7(955)-555-55-55\n",
      "+7(955)-555-55-55\n",
      "+7(955)-555-55-55\n"
     ]
    }
   ],
   "source": [
    "phone_nums = ['+7 955 555-55-55','9555555555', '8(955)555-55-55', '+7 955 555 55 55', '7(955) 555-55-55', '+7 955+555+55+55']\n",
    "\n",
    "for num in phone_nums:\n",
    "     print(phone_numbers(num))"
   ]
  },
  {
   "cell_type": "code",
   "execution_count": 128,
   "metadata": {},
   "outputs": [
    {
     "name": "stdout",
     "output_type": "stream",
     "text": [
      "Неправильный номер\n"
     ]
    }
   ],
   "source": [
    "phone_numbers('495-44-44-44-44-44')"
   ]
  }
 ],
 "metadata": {
  "kernelspec": {
   "display_name": "Python 3",
   "language": "python",
   "name": "python3"
  },
  "language_info": {
   "codemirror_mode": {
    "name": "ipython",
    "version": 3
   },
   "file_extension": ".py",
   "mimetype": "text/x-python",
   "name": "python",
   "nbconvert_exporter": "python",
   "pygments_lexer": "ipython3",
   "version": "3.7.4"
  }
 },
 "nbformat": 4,
 "nbformat_minor": 4
}
