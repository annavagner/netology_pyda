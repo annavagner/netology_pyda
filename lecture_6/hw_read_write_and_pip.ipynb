{
 "cells": [
  {
   "cell_type": "markdown",
   "metadata": {},
   "source": [
    "# Домашнее задание\n",
    "1. Переведите содержимое файла purchase_log.txt в словарь purchases вида:\n",
    "```python\n",
    "{'1840e0b9d4': 'Продукты', ...}\n",
    "```\n",
    "\n",
    "\n",
    "2. Для каждого user_id в файле visit_log.csv определите третий столбец с категорией покупки (если покупка была, сам файл visit_log.csv изменять не надо). Запишите в файл funnel.csv визиты из файла visit_log.csv, в которых были покупки с указанием категории.\n",
    "\n",
    "Учтите условия на данные:\n",
    "- содержимое purchase_log.txt помещается в оперативную память компьютера\n",
    "- содержимое visit_log.csv - нет; используйте только построчную обработку этого файла"
   ]
  },
  {
   "cell_type": "code",
   "execution_count": 81,
   "metadata": {},
   "outputs": [
    {
     "data": {
      "text/plain": [
       "{'1840e0b9d4': 'Продукты',\n",
       " '4e4f90fcfb': 'Электроника',\n",
       " 'afea8d72fc': 'Электроника',\n",
       " '373a6055fe': 'Бытовая техника',\n",
       " '9b2ab046f3': 'Электроника'}"
      ]
     },
     "execution_count": 81,
     "metadata": {},
     "output_type": "execute_result"
    }
   ],
   "source": [
    "import json\n",
    "\n",
    "purchases = {}\n",
    "\n",
    "with open('purchase_log.txt', encoding='utf-8') as purchases_log:\n",
    "    next(purchases_log)\n",
    "    for line in purchases_log:\n",
    "        line = json.loads(line.strip())\n",
    "        purchases[list(line.values())[0]] = list(line.values())[1]\n",
    "                                             \n",
    "\n",
    "   \n",
    "dict(list(purchases.items())[:5])"
   ]
  },
  {
   "cell_type": "code",
   "execution_count": 60,
   "metadata": {},
   "outputs": [],
   "source": [
    "with open ('funnel.csv', 'w') as funnel:\n",
    "    with open('visit_log.csv', 'r') as visits:\n",
    "        next(visits)\n",
    "        for line in visits:\n",
    "            line = line.strip().split(',')\n",
    "            if line[0] in purchases:\n",
    "                funnel.write(f'{line[0]}, {line[1]},  {purchases[line[0]]} \\n')\n",
    "    funnel.close()\n",
    "    visits.close()\n",
    "                "
   ]
  },
  {
   "cell_type": "code",
   "execution_count": 74,
   "metadata": {},
   "outputs": [
    {
     "name": "stdout",
     "output_type": "stream",
     "text": [
      "13798\n"
     ]
    }
   ],
   "source": [
    "check = open('funnel.csv', 'r')\n",
    "count = 0\n",
    "for line in check:\n",
    "    count +=1    \n",
    "print(count) \n",
    "\n",
    "check.close()\n",
    "    "
   ]
  },
  {
   "cell_type": "code",
   "execution_count": 90,
   "metadata": {},
   "outputs": [
    {
     "name": "stdout",
     "output_type": "stream",
     "text": [
      "1840e0b9d4, other,  Продукты\n",
      "4e4f90fcfb, context,  Электроника\n",
      "afea8d72fc, other,  Электроника\n",
      "2824221f38, email,  Продукты\n",
      "373a6055fe, other,  Бытовая техника\n"
     ]
    }
   ],
   "source": [
    "check = open('funnel.csv', 'r')\n",
    "\n",
    "for i in range(5):\n",
    "    print(check.readline().strip())\n",
    "    \n",
    "\n",
    " "
   ]
  }
 ],
 "metadata": {
  "kernelspec": {
   "display_name": "Python 3",
   "language": "python",
   "name": "python3"
  },
  "language_info": {
   "codemirror_mode": {
    "name": "ipython",
    "version": 3
   },
   "file_extension": ".py",
   "mimetype": "text/x-python",
   "name": "python",
   "nbconvert_exporter": "python",
   "pygments_lexer": "ipython3",
   "version": "3.7.4"
  }
 },
 "nbformat": 4,
 "nbformat_minor": 2
}
